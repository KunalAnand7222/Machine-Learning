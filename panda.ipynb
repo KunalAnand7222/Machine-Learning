{
 "cells": [
  {
   "cell_type": "code",
   "execution_count": 107,
   "metadata": {},
   "outputs": [],
   "source": [
    "import pandas as pd\n",
    "import numpy as np"
   ]
  },
  {
   "cell_type": "markdown",
   "metadata": {},
   "source": [
    "*Pandas provides flexible data structures and functions to work with structured data, making it ideal for tasks such as data cleaning, transformation, analysis, and visualization.*"
   ]
  },
  {
   "cell_type": "code",
   "execution_count": null,
   "metadata": {},
   "outputs": [],
   "source": [
    "dictt={\n",
    "    \"a\":[54,56,87,98],\n",
    "    \"b\":[\"as\",\"oi\",\"h\",\"oi\"],\n",
    "    \"c\":[10,20,30,40]\n",
    "}\n",
    "dictt=pd.DataFrame(dictt) #converting to data frame\n",
    "dictt"
   ]
  },
  {
   "cell_type": "code",
   "execution_count": null,
   "metadata": {},
   "outputs": [],
   "source": [
    "dictt[\"a\"][2]\n",
    "# first column name name then row name"
   ]
  },
  {
   "cell_type": "code",
   "execution_count": 109,
   "metadata": {},
   "outputs": [],
   "source": [
    "dict1=dictt.to_csv(\"h1.csv\",index=False)  #storing in a csv file without index(rows) name\n"
   ]
  },
  {
   "cell_type": "code",
   "execution_count": null,
   "metadata": {},
   "outputs": [],
   "source": [
    "dictt.head() #print starting 5 rows"
   ]
  },
  {
   "cell_type": "code",
   "execution_count": null,
   "metadata": {},
   "outputs": [],
   "source": [
    "dictt.tail()#print last 5 rows"
   ]
  },
  {
   "cell_type": "code",
   "execution_count": 112,
   "metadata": {},
   "outputs": [],
   "source": [
    "dictt.describe()\n",
    "#count mean max std min 25% 50% 75% max data show column wise of numerical column\n",
    "d1=dictt.describe()\n",
    "\n"
   ]
  },
  {
   "cell_type": "code",
   "execution_count": 179,
   "metadata": {},
   "outputs": [],
   "source": [
    "data=pd.read_csv(\"h1.csv\")\n",
    "#reading csv file using pandas"
   ]
  },
  {
   "cell_type": "code",
   "execution_count": null,
   "metadata": {},
   "outputs": [],
   "source": [
    "data[\"a\"][1]  #accessing data of csv \n",
    "#or we can also use loc or iloc function\n",
    "#data[\"coln name\"][\"row name\"]"
   ]
  },
  {
   "cell_type": "code",
   "execution_count": 115,
   "metadata": {},
   "outputs": [],
   "source": [
    "# pandas has two data structure\n",
    "# 1. series: one dimen array stores a single coln or row \n",
    "# 2. dataframe: tabular form data structure can store different types of data"
   ]
  },
  {
   "cell_type": "code",
   "execution_count": null,
   "metadata": {},
   "outputs": [],
   "source": [
    "a=[\"sd\",54,True]\n",
    "a1=pd.Series(a)  #converting to a series(1d array)\n",
    "a1[2]\n",
    "type(a1) #checking type of a1"
   ]
  },
  {
   "cell_type": "code",
   "execution_count": null,
   "metadata": {},
   "outputs": [],
   "source": [
    "data=pd.DataFrame(np.random.rand(10,5),index=np.arange(10))\n",
    "data\n",
    "type(data)"
   ]
  },
  {
   "cell_type": "code",
   "execution_count": null,
   "metadata": {},
   "outputs": [],
   "source": [
    "data.describe()"
   ]
  },
  {
   "cell_type": "code",
   "execution_count": null,
   "metadata": {},
   "outputs": [],
   "source": [
    "data[0][0]=\"kunal\"  #string is of object type\n",
    "data.dtypes"
   ]
  },
  {
   "cell_type": "code",
   "execution_count": null,
   "metadata": {},
   "outputs": [],
   "source": [
    "#printnig index name\n",
    "data.index"
   ]
  },
  {
   "cell_type": "code",
   "execution_count": null,
   "metadata": {},
   "outputs": [],
   "source": [
    "#printnig column name\n",
    "data.columns"
   ]
  },
  {
   "cell_type": "code",
   "execution_count": null,
   "metadata": {},
   "outputs": [],
   "source": [
    "# converting data frame to numpy array\n",
    "d1=data.to_numpy()\n",
    "d1.shape\n",
    "d1[2,3]"
   ]
  },
  {
   "cell_type": "code",
   "execution_count": null,
   "metadata": {},
   "outputs": [],
   "source": [
    "#transpose\n",
    "data.T"
   ]
  },
  {
   "cell_type": "code",
   "execution_count": null,
   "metadata": {},
   "outputs": [],
   "source": [
    "#sorting index \n",
    "data.sort_index(axis=1,ascending=False)"
   ]
  },
  {
   "cell_type": "code",
   "execution_count": null,
   "metadata": {},
   "outputs": [],
   "source": [
    "# copy of data frame\n",
    "cpy=data.copy()\n",
    "#now if we change anything in copy it doesnot have impact on main\n",
    "cpy"
   ]
  },
  {
   "cell_type": "code",
   "execution_count": null,
   "metadata": {},
   "outputs": [],
   "source": [
    "#accessing using loc function\n",
    "data.loc[0,1]\n",
    "# loc is used for accessing using row and column name not by indexing"
   ]
  },
  {
   "cell_type": "code",
   "execution_count": null,
   "metadata": {},
   "outputs": [],
   "source": [
    "data.columns=list(\"abcde\")\n",
    "data\n",
    "# data.loc[0,\"a\"]"
   ]
  },
  {
   "cell_type": "code",
   "execution_count": 128,
   "metadata": {},
   "outputs": [],
   "source": [
    "# drop function\n",
    "data=data.drop(\"e\",axis=1)\n",
    "# column name or row name as argument in drop function"
   ]
  },
  {
   "cell_type": "code",
   "execution_count": null,
   "metadata": {},
   "outputs": [],
   "source": [
    "data.loc[[2,4],[\"a\"]]  #accessing multiple element\n",
    "# axis=0 for rows and 1 for columns\n",
    "data.loc[:,[\"a\"]]"
   ]
  },
  {
   "cell_type": "code",
   "execution_count": null,
   "metadata": {},
   "outputs": [],
   "source": [
    "data.loc[(data[\"c\"]>0.7) & (data[\"b\"]<0.2)]\n",
    "#can also apply condition"
   ]
  },
  {
   "cell_type": "code",
   "execution_count": null,
   "metadata": {},
   "outputs": [],
   "source": [
    "# iloc: can access using just row index and column index\n",
    "data.iloc[[1,2],:]"
   ]
  },
  {
   "cell_type": "code",
   "execution_count": 132,
   "metadata": {},
   "outputs": [],
   "source": [
    "data.drop([1,4,5],inplace=True)\n",
    "# inplace=true means update original dataframe\n",
    "#by default drop delete row so if want to delete column use axis=1\n",
    "\n"
   ]
  },
  {
   "cell_type": "code",
   "execution_count": null,
   "metadata": {},
   "outputs": [],
   "source": [
    "data.reset_index()  #reset index "
   ]
  },
  {
   "cell_type": "code",
   "execution_count": null,
   "metadata": {},
   "outputs": [],
   "source": [
    "data.dropna(axis=1)\n",
    "data.dropna(how=\"all\") #if all row is null then it delete else no\n",
    "data.dropna(how=\"any\") #if any one then delete\n",
    "data.loc[9,:]=[None,54,54,87]\n",
    "data"
   ]
  },
  {
   "cell_type": "code",
   "execution_count": null,
   "metadata": {},
   "outputs": [],
   "source": [
    "#argument subset keep=first(keep first occurance delete all) last false\n",
    "data.drop_duplicates(subset=[\"b\"],keep=False) #delete all\n",
    "# mistake no axis function in suplicates"
   ]
  },
  {
   "cell_type": "code",
   "execution_count": null,
   "metadata": {},
   "outputs": [],
   "source": [
    "# counting null value\n",
    "data.isnull().sum()  #return number of null values column wise"
   ]
  },
  {
   "cell_type": "code",
   "execution_count": null,
   "metadata": {},
   "outputs": [],
   "source": [
    "data.shape"
   ]
  },
  {
   "cell_type": "code",
   "execution_count": null,
   "metadata": {},
   "outputs": [],
   "source": [
    "data.info()  #describe everything about column datatype how many null value"
   ]
  },
  {
   "cell_type": "code",
   "execution_count": null,
   "metadata": {},
   "outputs": [],
   "source": [
    "data[\"a\"].value_counts(dropna=False)  #count unique value"
   ]
  },
  {
   "cell_type": "code",
   "execution_count": null,
   "metadata": {},
   "outputs": [],
   "source": [
    "data.notnull()  #true if not null"
   ]
  },
  {
   "cell_type": "code",
   "execution_count": null,
   "metadata": {},
   "outputs": [],
   "source": [
    "# mistake dataframe({})\n",
    "data=pd.DataFrame({\n",
    "    \"a\":np.random.randint(10,20,3),\n",
    "    \"b\":np.random.randint(20,100,3)\n",
    "})\n",
    "data"
   ]
  },
  {
   "cell_type": "code",
   "execution_count": null,
   "metadata": {},
   "outputs": [],
   "source": [
    "#all give output column wise\n",
    "print(data.describe())\n",
    "print(data.mean())\n",
    "print(data.median())\n",
    "print(data.corr())\n",
    "print(data.max())\n",
    "print(data.count())"
   ]
  },
  {
   "cell_type": "markdown",
   "metadata": {},
   "source": [
    "*corr=cov(x,y)/std(x)*std(y)*\n",
    "<br>\n",
    "*cov(x,y)=1/n-1(sigma(xi-mean(x))(yi-mean(y)))*\n",
    "​\n",
    " \n"
   ]
  },
  {
   "cell_type": "code",
   "execution_count": null,
   "metadata": {},
   "outputs": [],
   "source": [
    "#accessing excel file\n",
    "data=pd.read_excel(\"kkk.xlsx\",sheet_name=\"Sheet1\")\n",
    "# used to access sheet 1 of kkk xlsx file\n",
    "# write into excel\n",
    "data.to_excel(\"kkk.xlsx\",sheet_name=\"Sheet2\")"
   ]
  }
 ],
 "metadata": {
  "kernelspec": {
   "display_name": "Python 3",
   "language": "python",
   "name": "python3"
  },
  "language_info": {
   "codemirror_mode": {
    "name": "ipython",
    "version": 3
   },
   "file_extension": ".py",
   "mimetype": "text/x-python",
   "name": "python",
   "nbconvert_exporter": "python",
   "pygments_lexer": "ipython3",
   "version": "3.12.4"
  }
 },
 "nbformat": 4,
 "nbformat_minor": 2
}
