{
 "cells": [
  {
   "cell_type": "code",
   "execution_count": 1,
   "metadata": {},
   "outputs": [],
   "source": [
    "import numpy as np"
   ]
  },
  {
   "cell_type": "markdown",
   "metadata": {},
   "source": [
    "# Numpy"
   ]
  },
  {
   "cell_type": "markdown",
   "metadata": {},
   "source": [
    "**Bold**"
   ]
  },
  {
   "cell_type": "markdown",
   "metadata": {},
   "source": [
    "*Italic*"
   ]
  },
  {
   "cell_type": "markdown",
   "metadata": {},
   "source": [
    "> quote"
   ]
  },
  {
   "cell_type": "markdown",
   "metadata": {},
   "source": [
    "1. order list"
   ]
  },
  {
   "cell_type": "markdown",
   "metadata": {},
   "source": [
    "- unordered"
   ]
  },
  {
   "cell_type": "markdown",
   "metadata": {},
   "source": [
    "'code'"
   ]
  },
  {
   "cell_type": "markdown",
   "metadata": {},
   "source": [
    "# Array Creation"
   ]
  },
  {
   "cell_type": "code",
   "execution_count": null,
   "metadata": {},
   "outputs": [],
   "source": [
    "arr=np.array([1,2,3]) #1d array\n",
    "arr[2]  #return output with dtype like np.int64(indexing_element)"
   ]
  },
  {
   "cell_type": "code",
   "execution_count": null,
   "metadata": {},
   "outputs": [],
   "source": [
    "arr1=np.array([[1,2,3],[4,5,6]],np.int32) #can also pass data type while making array   #2d array\n",
    "arr1[1,2]\n",
    "arr1.shape #row,column\n",
    "arr1.size# number of elements\n",
    "arr1.dtype #data type\n",
    "arr1[0,2]=56 #updating element of array\n",
    "arr1"
   ]
  },
  {
   "cell_type": "code",
   "execution_count": null,
   "metadata": {},
   "outputs": [],
   "source": [
    "arr1=np.array([[[1,2,3],[4,5,6]]]) #3d array\n",
    "arr1[0,1,2]\n",
    "arr1.shape"
   ]
  },
  {
   "cell_type": "markdown",
   "metadata": {},
   "source": [
    "**Creation from other structures**"
   ]
  },
  {
   "cell_type": "code",
   "execution_count": null,
   "metadata": {},
   "outputs": [],
   "source": [
    "list1=[[1,2,3,3],[4,5,6,6]]\n",
    "arr2=np.array(list1) #converting list into array\n",
    "arr2.shape\n",
    "arr2"
   ]
  },
  {
   "cell_type": "code",
   "execution_count": null,
   "metadata": {},
   "outputs": [],
   "source": [
    "dict1={1,2,3,4,4}  #remove duplicate bcz we are passing set\n",
    "arr3=np.array(dict1)\n",
    "arr3.dtype #dtype object ('O')"
   ]
  },
  {
   "cell_type": "code",
   "execution_count": null,
   "metadata": {},
   "outputs": [],
   "source": [
    "dict1 = {\"apple\": 3, \"banana\": 5, \"orange\": 2}\n",
    "arr_values = np.array(list(dict1.values()))\n",
    "arr_values.dtype\n",
    "#we can also convert dictionary to array\n",
    "# use dict1.values to converting only for values\n",
    "# use dict1.keys to converting only for keys \n"
   ]
  },
  {
   "cell_type": "markdown",
   "metadata": {},
   "source": [
    "**Intrinsic creation of array**"
   ]
  },
  {
   "cell_type": "code",
   "execution_count": null,
   "metadata": {},
   "outputs": [],
   "source": [
    "# zero=np.zeros(3,4) throw error bcz its second argument is for data type\n",
    "zero=np.zeros((3,4),dtype=\"int64\") #bydefault zeros function has float datatype but we can convert it into any datatype\n",
    "#return 3x4 array with all zero\n",
    "zero"
   ]
  },
  {
   "cell_type": "code",
   "execution_count": null,
   "metadata": {},
   "outputs": [],
   "source": [
    "#arange function\n",
    "arnge=np.arange(12)\n",
    "#generate element from 0 to n-1\n",
    "arnge.dtype\n",
    "#we can convert 1d array to 2d array using reshape function\n",
    "arnge2d=arnge.reshape(4,3)  #pass argument multiplication must be equal to length of main array \n",
    "arnge2d\n",
    "arnge1d=arnge2d.ravel() #ravel used to convert any array into 1d\n",
    "arnge1d"
   ]
  },
  {
   "cell_type": "code",
   "execution_count": null,
   "metadata": {},
   "outputs": [],
   "source": [
    "#linspace function\n",
    "lin=np.linspace(2,20,10,dtype=\"int64\")\n",
    "#generate 10 equally space element from 2 to 20\n",
    "#distance between all consecutive element same\n",
    "lin"
   ]
  },
  {
   "cell_type": "code",
   "execution_count": null,
   "metadata": {},
   "outputs": [],
   "source": [
    "#empty function\n",
    "emp=np.empty((4,5)) #generate random values\n",
    "emp"
   ]
  },
  {
   "cell_type": "code",
   "execution_count": null,
   "metadata": {},
   "outputs": [],
   "source": [
    "#empty_like\n",
    "emp1=np.empty_like((emp)) #create an array of same data type and same shape with random values\n",
    "emp1"
   ]
  },
  {
   "cell_type": "code",
   "execution_count": null,
   "metadata": {},
   "outputs": [],
   "source": [
    "#identity matrix\n",
    "iden=np.identity(4) #create 4x4 matrix where primary diagonal is 1\n",
    "iden"
   ]
  },
  {
   "cell_type": "code",
   "execution_count": null,
   "metadata": {},
   "outputs": [],
   "source": [
    "ar1=np.arange(2,20,3) \n",
    "#generate element from 2 to 20 with gap of 3\n",
    "ar1"
   ]
  },
  {
   "cell_type": "markdown",
   "metadata": {},
   "source": [
    "**Numpy axis**"
   ]
  },
  {
   "cell_type": "code",
   "execution_count": null,
   "metadata": {},
   "outputs": [],
   "source": [
    "# 1d array contains only axis 0\n",
    "#2d array contains axis 0(down column) and axis 1(across rows)\n",
    "#axis will be used in some function\n",
    "arr1=np.arange(12)\n",
    "arr2=arr1.reshape(3,4)\n",
    "print(arr2)\n",
    "arr2.sum(axis=0)  #sum all element column wise\n",
    "arr2.sum(axis=1) #sum all element row wise"
   ]
  },
  {
   "cell_type": "code",
   "execution_count": null,
   "metadata": {},
   "outputs": [],
   "source": [
    "#transpose of array (T)\n",
    "arr2.T"
   ]
  },
  {
   "cell_type": "code",
   "execution_count": null,
   "metadata": {},
   "outputs": [],
   "source": [
    "arr2.ndim  #dimension 2d 3d 1d\n",
    "arr2.flat #used to iterate throughout the array\n",
    "print(arr2)\n",
    "for i in arr2.flat: #iterate through row wise\n",
    "    print(i)"
   ]
  },
  {
   "cell_type": "code",
   "execution_count": null,
   "metadata": {},
   "outputs": [],
   "source": [
    "arr2.nbytes #total number of bytes consumed by array"
   ]
  },
  {
   "cell_type": "code",
   "execution_count": null,
   "metadata": {},
   "outputs": [],
   "source": [
    "#argmin argmax argsort for 1d\n",
    "a1=np.array([5,6,8,9,0,2])\n",
    "a1.argmax()  #return index of maximum\n",
    "a1.argmin()  #return index of minimum\n",
    "a1.argsort() #return indices of sorting element in increasing order\n",
    "#ex: 20,40,0  return 2,0,1 bcz at 2nd indices smallest element"
   ]
  },
  {
   "cell_type": "code",
   "execution_count": 146,
   "metadata": {},
   "outputs": [
    {
     "name": "stdout",
     "output_type": "stream",
     "text": [
      "None\n"
     ]
    },
    {
     "data": {
      "text/plain": [
       "array([[ 5,  6],\n",
       "       [ 8,  9],\n",
       "       [ 0, 20]])"
      ]
     },
     "execution_count": 146,
     "metadata": {},
     "output_type": "execute_result"
    }
   ],
   "source": [
    "#argmin argmax argsort for 2d\n",
    "a1=np.array([5,6,8,9,0,20])\n",
    "a2=a1.reshape(3,2)\n",
    "a2\n",
    "a2.argmax()#first convert into 1d then return indices\n",
    "a2.argmin() #convert into 1d then return indices\n",
    "a2.argsort()\n",
    "a2"
   ]
  },
  {
   "cell_type": "code",
   "execution_count": null,
   "metadata": {},
   "outputs": [],
   "source": [
    "print(a2)\n",
    "a2.argmax(axis=0) #return columnwise max value indices\n",
    "a2.argmin(axis=1) #return rowwise min value indices\n",
    "a2.argsort(axis=0) #return indices columnwise sorting"
   ]
  },
  {
   "cell_type": "code",
   "execution_count": 150,
   "metadata": {},
   "outputs": [
    {
     "name": "stdout",
     "output_type": "stream",
     "text": [
      "[9 8 7 6 5 4 3 2 1]\n"
     ]
    },
    {
     "data": {
      "text/plain": [
       "array([-1, -1, -1, -1, -1, -1, -1, -1, -1])"
      ]
     },
     "execution_count": 150,
     "metadata": {},
     "output_type": "execute_result"
    }
   ],
   "source": [
    "a11=np.arange(1,10)\n",
    "ah=np.sort(a11)[::-1] #sort array in descending order\n",
    "print(ah)\n",
    "a12=np.arange(0,9)\n",
    "a11+a12  #add index wise\n",
    "a11*a12  #multi index wise\n",
    "a12-a11"
   ]
  },
  {
   "cell_type": "code",
   "execution_count": null,
   "metadata": {},
   "outputs": [],
   "source": [
    "#square root\n",
    "np.sqrt(a11)  #return square root of every element\n",
    "a13=a11.reshape(3,3)\n",
    "a13.sum()  # return sum of all element of array\n",
    "a13.max()\n",
    "a13.min()"
   ]
  },
  {
   "cell_type": "code",
   "execution_count": null,
   "metadata": {},
   "outputs": [],
   "source": [
    "#finding element from array\n",
    "print(a13)\n",
    "a13.shape\n",
    "np.where(a13>6)\n",
    "# return two array first of row indices and second one of column indices\n",
    "type(np.where(a13>6))  #return type tuple of two array"
   ]
  },
  {
   "cell_type": "code",
   "execution_count": null,
   "metadata": {},
   "outputs": [],
   "source": [
    "#count non-zero\n",
    "np.count_nonzero(a13) #return count of non zero value\n",
    "np.nonzero(a13)  #return two array one of row and other one of column indices where element is not zero"
   ]
  },
  {
   "cell_type": "code",
   "execution_count": 135,
   "metadata": {},
   "outputs": [],
   "source": [
    "#checking how numpy array takes less memory than python list/array\n",
    "import sys"
   ]
  },
  {
   "cell_type": "code",
   "execution_count": 137,
   "metadata": {},
   "outputs": [],
   "source": [
    "py_arr=[5,8,7,9]\n",
    "np_arr=np.array(py_arr)"
   ]
  },
  {
   "cell_type": "code",
   "execution_count": null,
   "metadata": {},
   "outputs": [],
   "source": [
    "sys.getsizeof(1)*len(py_arr)  #memory taken by python array/list"
   ]
  },
  {
   "cell_type": "code",
   "execution_count": null,
   "metadata": {},
   "outputs": [],
   "source": [
    "np_arr.itemsize*len(np_arr)  #memory taken by numpy array"
   ]
  },
  {
   "cell_type": "code",
   "execution_count": 143,
   "metadata": {},
   "outputs": [
    {
     "data": {
      "text/plain": [
       "[5, 8, 7, 9]"
      ]
     },
     "execution_count": 143,
     "metadata": {},
     "output_type": "execute_result"
    }
   ],
   "source": [
    "#array to list\n",
    "np_arr.tolist()"
   ]
  },
  {
   "cell_type": "code",
   "execution_count": null,
   "metadata": {},
   "outputs": [],
   "source": [
    "# The sys library in Python provides access to variables and functions that interact closely with the Python runtime environment"
   ]
  }
 ],
 "metadata": {
  "kernelspec": {
   "display_name": "Python 3",
   "language": "python",
   "name": "python3"
  },
  "language_info": {
   "codemirror_mode": {
    "name": "ipython",
    "version": 3
   },
   "file_extension": ".py",
   "mimetype": "text/x-python",
   "name": "python",
   "nbconvert_exporter": "python",
   "pygments_lexer": "ipython3",
   "version": "3.12.4"
  }
 },
 "nbformat": 4,
 "nbformat_minor": 2
}
