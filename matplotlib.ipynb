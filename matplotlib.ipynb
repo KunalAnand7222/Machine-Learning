{
 "cells": [
  {
   "cell_type": "markdown",
   "metadata": {},
   "source": [
    "**Matplotlib**"
   ]
  },
  {
   "cell_type": "markdown",
   "metadata": {},
   "source": [
    "*Data visualisation means representing data into graphical or pictorial form*"
   ]
  },
  {
   "cell_type": "markdown",
   "metadata": {},
   "source": [
    "*Matplotlib used to represent 2d graphs*<br>\n"
   ]
  },
  {
   "cell_type": "markdown",
   "metadata": {},
   "source": [
    "**Types of Plots:**\n",
    "- Bar graph\n",
    "- Histogram\n",
    "- ScatterPlot\n",
    "- Pieplot\n",
    "- area plot\n",
    "- hexagonal bin plot\n"
   ]
  },
  {
   "cell_type": "code",
   "execution_count": 33,
   "metadata": {},
   "outputs": [],
   "source": [
    "from matplotlib import pyplot as plt\n",
    "# importing pyplot module from matplotlib library\n",
    "import numpy as np"
   ]
  },
  {
   "cell_type": "code",
   "execution_count": null,
   "metadata": {},
   "outputs": [],
   "source": [
    "# simple graph\n",
    "# plt.plot(x,y)\n",
    "plt.plot([1,2,3],[4,5,1])\n",
    "plt.show()"
   ]
  },
  {
   "cell_type": "code",
   "execution_count": null,
   "metadata": {},
   "outputs": [],
   "source": [
    "x=(2,6,10,9)\n",
    "y=[10,20,30,40]\n",
    "# x and y can be of list tuple and of array type only\n",
    "# x and y must be of same length\n",
    "plt.plot(x,y,color=\"red\",linewidth=4)\n",
    "plt.title(\"Basics\") #used to give name of graph\n",
    "plt.xlabel(\"x axis\") #used to represent x label\n",
    "plt.ylabel(\"y axis\") # same y label\n",
    "plt.show()"
   ]
  },
  {
   "cell_type": "code",
   "execution_count": 27,
   "metadata": {},
   "outputs": [],
   "source": [
    "# dict1={\n",
    "#     \"a\":[5,6,7,8]\n",
    "# }\n",
    "# dict2={\n",
    "#     \"a\":[5,6,7,8]\n",
    "# }\n",
    "# # plt.plot(dict1,dict2)\n",
    "# cant pass dictionary directly"
   ]
  },
  {
   "cell_type": "code",
   "execution_count": 29,
   "metadata": {},
   "outputs": [],
   "source": [
    "from matplotlib import style as st\n",
    "# style used to styling the graph like width color and so on"
   ]
  },
  {
   "cell_type": "code",
   "execution_count": null,
   "metadata": {},
   "outputs": [],
   "source": [
    "x=(2,6,10,9,15)\n",
    "y=[10,20,30,40,25]\n",
    "x1=np.random.randint(5,25,4)\n",
    "y1=np.random.randint(1,25,4)\n",
    "# its not mandatory that two graph have same length (ex x,y have 5 while x1,y1 have 4)\n",
    "plt.figure(figsize=(20,10))\n",
    "# used to set size of graph dont forget to write figsize=\n",
    "plt.plot(x,y,label=\"first\",linewidth=5,color=\"red\")\n",
    "plt.plot(x1,y1,label=\"second\",linewidth=6,color=\"purple\")\n",
    "# pass label it will used to naming particular graph\n",
    "# linewidth: width of line of a graph\n",
    "plt.title(\"Combo Two Graph\")\n",
    "plt.xlabel(\"X axis\",color=\"red\",fontsize=15,rotation=90,labelpad=10)\n",
    "plt.ylabel(\"Y axis\",color=\"blue\",fontsize=15,rotation=0,labelpad=10)\n",
    "# plt.show() use plt.show at last always else it will ignore all line after this\n",
    "plt.legend()\n",
    "plt.grid(True,color=\"black\") #used to show grid inside a graph\n",
    "plt.show()"
   ]
  },
  {
   "cell_type": "code",
   "execution_count": null,
   "metadata": {},
   "outputs": [],
   "source": [
    "plt.xlabel(\"X axis\",color=\"red\",fontsize=15,rotation=90,labelpad=10)\n",
    "# labelpad is used to set distance between xlabel and graph "
   ]
  },
  {
   "cell_type": "markdown",
   "metadata": {},
   "source": [
    "**Bar Graph**<br>\n",
    "- Bar Graph: Compare categories or discrete data.\tProduct sales, number of students in departments.<br>\n",
    "- Histogram: Show the distribution of a continuous variable.\tDistribution of heights, test scores, etc.<br>\n",
    "- Pie Chart: Show proportions or percentages of categories.\tMarket share, expense breakdown.<br>\n",
    "- Scatter Plot: Show relationships or correlation between two continuous variables.\tRelationship between age and income, height and weight."
   ]
  },
  {
   "cell_type": "code",
   "execution_count": null,
   "metadata": {},
   "outputs": [],
   "source": [
    "x=(2,6,10,9,15)\n",
    "y=[10,20,30,40,25]\n",
    "x1=np.random.randint(5,25,4)\n",
    "y1=np.random.randint(1,25,4)\n",
    "print(x1,y1)\n",
    "plt.bar(x,y,label=\"First\",color=\"red\",width=0.5)\n",
    "plt.bar(x1,y1,label=\"Second\",color=\"green\",width=0.7)\n",
    "plt.show()\n",
    "# in bar plot instead of linewidth there is just width to adjust bar width\n"
   ]
  },
  {
   "cell_type": "markdown",
   "metadata": {},
   "source": [
    "**Histogram: Continuous/numerical**"
   ]
  },
  {
   "cell_type": "code",
   "execution_count": null,
   "metadata": {},
   "outputs": [],
   "source": [
    "# Example: Histogram\n",
    "data=np.random.randint(10,50,10)\n",
    "print(data)\n",
    "bin=[10,20,30,40,50]\n",
    "plt.figure(figsize=(10,10))\n",
    "plt.hist(data,bin,rwidth=0.3,histtype=\"barstacked\")\n",
    "# rwidth is used to set width of bar\n",
    "# histtype used to which graph u want to show bar,barstacked,step and so on\n",
    "plt.title(\"Histogram\",fontsize=20,color=\"red\",fontweight=\"bold\",style='italic')\n",
    "# fontweight is used to bold,heavy,normal\n",
    "plt.xlabel(\"x axis\")\n",
    "plt.show()\n"
   ]
  },
  {
   "cell_type": "markdown",
   "metadata": {},
   "source": [
    "**ScatterPlot: relationship/correlation between two**"
   ]
  },
  {
   "cell_type": "code",
   "execution_count": null,
   "metadata": {},
   "outputs": [],
   "source": [
    "x=(2,6,10,9,15)\n",
    "y=[10,20,30,40,25]\n",
    "x1=np.random.randint(5,25,4)\n",
    "y1=np.random.randint(1,25,4)\n",
    "plt.scatter(x,y,color=\"red\",label=\"first\",marker=\"*\")\n",
    "# can we pass * or o inside marker\n",
    "plt.scatter(x1,y1,color=\"k\",label=\"second\",marker=\"o\",linewidth=5)\n",
    "plt.legend()\n",
    "# linewidth to change width of marker"
   ]
  },
  {
   "cell_type": "markdown",
   "metadata": {},
   "source": [
    "**Pie chart: proportion or percentage**"
   ]
  },
  {
   "cell_type": "code",
   "execution_count": null,
   "metadata": {},
   "outputs": [],
   "source": [
    "data=np.random.randint(1,10,5)\n",
    "print(data)\n",
    "labell=[\"a\",\"b\",\"c\",\"d\",\"e\"]\n",
    "plt.figure(figsize=(10,15))\n",
    "plt.pie(data,labels=labell,colors=[\"r\",\"b\",\"k\",\"pink\",\"green\"],explode=[0,0,0.2,0.1,0],autopct=\"%.2f%%\",startangle=90,shadow=True)\n",
    "# explode is used to how much u want to explode the graph\n",
    "# autopct= dont forget % and %% at last .2 means two decimal\n",
    "# startangle from what angle u want to display ur graph\n",
    "plt.legend()\n",
    "plt.show()\n",
    "# in pie chart there is colors instead of color\n",
    "# there is no width parameter in pieplot"
   ]
  },
  {
   "cell_type": "markdown",
   "metadata": {},
   "source": [
    "**Horizontal bar plot**"
   ]
  },
  {
   "cell_type": "code",
   "execution_count": null,
   "metadata": {},
   "outputs": [],
   "source": [
    "\n",
    "x=(2,6,10,9,15)\n",
    "y=[10,20,30,40,25]\n",
    "x1=np.random.randint(5,25,4)\n",
    "y1=np.random.randint(1,25,4)\n",
    "print(x1,y1)\n",
    "plt.barh(x,y,label=\"First\",color=\"red\",height=0.5)\n",
    "plt.barh(x1,y1,label=\"Second\",color=\"green\",height=0.7)\n",
    "plt.show()\n",
    "# in horixontal bar plot instead of linewidth there is just height to adjust bar height\n"
   ]
  },
  {
   "cell_type": "markdown",
   "metadata": {},
   "source": [
    "**Sub plot**"
   ]
  },
  {
   "cell_type": "code",
   "execution_count": null,
   "metadata": {},
   "outputs": [],
   "source": [
    "# subplot\n",
    "plt.figure(figsize=(10,15))\n",
    "plt.subplot(323)\n",
    "x=(2,6,10,9,15)\n",
    "y=[10,20,30,40,25]\n",
    "plt.bar(x,y)\n",
    "plt.subplot(322)\n",
    "x1=np.random.randint(5,25,4)\n",
    "y1=np.random.randint(1,25,4)\n",
    "plt.bar(x1,y1)\n",
    "# first 2 is number of rows in grid\n",
    "#second is for number of column in grid\n",
    "#third is for indexing which graph u want to put first"
   ]
  }
 ],
 "metadata": {
  "kernelspec": {
   "display_name": "Python 3",
   "language": "python",
   "name": "python3"
  },
  "language_info": {
   "codemirror_mode": {
    "name": "ipython",
    "version": 3
   },
   "file_extension": ".py",
   "mimetype": "text/x-python",
   "name": "python",
   "nbconvert_exporter": "python",
   "pygments_lexer": "ipython3",
   "version": "3.12.4"
  }
 },
 "nbformat": 4,
 "nbformat_minor": 2
}
